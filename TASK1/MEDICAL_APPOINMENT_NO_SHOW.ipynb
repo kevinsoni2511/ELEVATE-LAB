{
  "nbformat": 4,
  "nbformat_minor": 0,
  "metadata": {
    "colab": {
      "provenance": [],
      "toc_visible": true,
      "authorship_tag": "ABX9TyPXno645HMGbAAzK05IH8R5",
      "include_colab_link": true
    },
    "kernelspec": {
      "name": "python3",
      "display_name": "Python 3"
    },
    "language_info": {
      "name": "python"
    }
  },
  "cells": [
    {
      "cell_type": "markdown",
      "metadata": {
        "id": "view-in-github",
        "colab_type": "text"
      },
      "source": [
        "<a href=\"https://colab.research.google.com/github/kevinsoni2511/ELEVATE-LAB/blob/main/TASK1/MEDICAL_APPOINMENT_NO_SHOW.ipynb\" target=\"_parent\"><img src=\"https://colab.research.google.com/assets/colab-badge.svg\" alt=\"Open In Colab\"/></a>"
      ]
    },
    {
      "cell_type": "code",
      "execution_count": 3,
      "metadata": {
        "id": "LBSA9SiDbZSi"
      },
      "outputs": [],
      "source": [
        "import numpy as np"
      ]
    }
  ]
}