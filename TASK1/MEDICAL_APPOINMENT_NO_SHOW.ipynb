{
  "nbformat": 4,
  "nbformat_minor": 0,
  "metadata": {
    "colab": {
      "provenance": [],
      "authorship_tag": "ABX9TyPjraS3+kKX3FmSrAzQ4GOp",
      "include_colab_link": true
    },
    "kernelspec": {
      "name": "python3",
      "display_name": "Python 3"
    },
    "language_info": {
      "name": "python"
    }
  },
  "cells": [
    {
      "cell_type": "markdown",
      "metadata": {
        "id": "view-in-github",
        "colab_type": "text"
      },
      "source": [
        "<a href=\"https://colab.research.google.com/github/kevinsoni2511/ELEVATE-LAB/blob/main/TASK1/MEDICAL_APPOINMENT_NO_SHOW.ipynb\" target=\"_parent\"><img src=\"https://colab.research.google.com/assets/colab-badge.svg\" alt=\"Open In Colab\"/></a>"
      ]
    },
    {
      "cell_type": "code",
      "execution_count": 16,
      "metadata": {
        "id": "LBSA9SiDbZSi",
        "colab": {
          "base_uri": "https://localhost:8080/"
        },
        "outputId": "eeabb1ab-0959-4bfd-bdac-1b3b2d100e0e"
      },
      "outputs": [
        {
          "output_type": "stream",
          "name": "stdout",
          "text": [
            "✅ Dataset loaded successfully!\n",
            "\n",
            "******Initial shape******\n",
            " (110527, 14)\n",
            "\n",
            "******Preview of dataset******\n",
            "\n",
            "       PatientId  AppointmentID Gender          ScheduledDay  \\\n",
            "0  2.987250e+13        5642903      F  2016-04-29T18:38:08Z   \n",
            "1  5.589978e+14        5642503      M  2016-04-29T16:08:27Z   \n",
            "2  4.262962e+12        5642549      F  2016-04-29T16:19:04Z   \n",
            "3  8.679512e+11        5642828      F  2016-04-29T17:29:31Z   \n",
            "4  8.841186e+12        5642494      F  2016-04-29T16:07:23Z   \n",
            "5  9.598513e+13        5626772      F  2016-04-27T08:36:51Z   \n",
            "6  7.336882e+14        5630279      F  2016-04-27T15:05:12Z   \n",
            "7  3.449833e+12        5630575      F  2016-04-27T15:39:58Z   \n",
            "8  5.639473e+13        5638447      F  2016-04-29T08:02:16Z   \n",
            "9  7.812456e+13        5629123      F  2016-04-27T12:48:25Z   \n",
            "\n",
            "         AppointmentDay  Age      Neighbourhood  Scholarship  Hipertension  \\\n",
            "0  2016-04-29T00:00:00Z   62    JARDIM DA PENHA            0             1   \n",
            "1  2016-04-29T00:00:00Z   56    JARDIM DA PENHA            0             0   \n",
            "2  2016-04-29T00:00:00Z   62      MATA DA PRAIA            0             0   \n",
            "3  2016-04-29T00:00:00Z    8  PONTAL DE CAMBURI            0             0   \n",
            "4  2016-04-29T00:00:00Z   56    JARDIM DA PENHA            0             1   \n",
            "5  2016-04-29T00:00:00Z   76          REPÚBLICA            0             1   \n",
            "6  2016-04-29T00:00:00Z   23         GOIABEIRAS            0             0   \n",
            "7  2016-04-29T00:00:00Z   39         GOIABEIRAS            0             0   \n",
            "8  2016-04-29T00:00:00Z   21         ANDORINHAS            0             0   \n",
            "9  2016-04-29T00:00:00Z   19          CONQUISTA            0             0   \n",
            "\n",
            "   Diabetes  Alcoholism  Handcap  SMS_received No-show  \n",
            "0         0           0        0             0      No  \n",
            "1         0           0        0             0      No  \n",
            "2         0           0        0             0      No  \n",
            "3         0           0        0             0      No  \n",
            "4         1           0        0             0      No  \n",
            "5         0           0        0             0      No  \n",
            "6         0           0        0             0     Yes  \n",
            "7         0           0        0             0     Yes  \n",
            "8         0           0        0             0      No  \n",
            "9         0           0        0             0      No  \n"
          ]
        }
      ],
      "source": [
        "\n",
        "# Step 1: Import libraries and load dataset\n",
        "\n",
        "import pandas as pd\n",
        "\n",
        "# Load dataset\n",
        "DF = pd.read_csv(\"/content/MEDICAL_APPOINMENT_NO_SHOW.csv\")\n",
        "\n",
        "print(\"✅ Dataset loaded successfully!\\n\")\n",
        "print(\"******Initial shape******\\n\", DF.shape)\n",
        "print(\"\\n******Preview of dataset******\\n\\n\", DF.head(10))\n"
      ]
    },
    {
      "cell_type": "code",
      "source": [
        "\n",
        "# Step 2: Identify and handle missing values\n",
        "\n",
        "print(\"\\n******Missing values before cleaning******\\n\\n\", DF.isnull().sum())\n",
        "\n",
        "# Drop missing rows in place\n",
        "DF.dropna(inplace=True)\n",
        "\n",
        "print(\"\\n\\n******✅ Missing values after cleaning:******\\n\\n\", DF.isnull().sum())\n"
      ],
      "metadata": {
        "colab": {
          "base_uri": "https://localhost:8080/"
        },
        "id": "KWtMSuEAefjd",
        "outputId": "17d09d10-e0ef-4834-c353-de33f802d38e"
      },
      "execution_count": 21,
      "outputs": [
        {
          "output_type": "stream",
          "name": "stdout",
          "text": [
            "\n",
            "******Missing values before cleaning******\n",
            "\n",
            " PatientId         0\n",
            "AppointmentID     0\n",
            "Gender            0\n",
            "ScheduledDay      0\n",
            "AppointmentDay    0\n",
            "Age               0\n",
            "Neighbourhood     0\n",
            "Scholarship       0\n",
            "Hipertension      0\n",
            "Diabetes          0\n",
            "Alcoholism        0\n",
            "Handcap           0\n",
            "SMS_received      0\n",
            "No-show           0\n",
            "dtype: int64\n",
            "\n",
            "\n",
            "******✅ Missing values after cleaning:******\n",
            "\n",
            " PatientId         0\n",
            "AppointmentID     0\n",
            "Gender            0\n",
            "ScheduledDay      0\n",
            "AppointmentDay    0\n",
            "Age               0\n",
            "Neighbourhood     0\n",
            "Scholarship       0\n",
            "Hipertension      0\n",
            "Diabetes          0\n",
            "Alcoholism        0\n",
            "Handcap           0\n",
            "SMS_received      0\n",
            "No-show           0\n",
            "dtype: int64\n"
          ]
        }
      ]
    }
  ]
}