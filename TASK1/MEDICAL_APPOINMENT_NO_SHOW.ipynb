{
  "nbformat": 4,
  "nbformat_minor": 0,
  "metadata": {
    "colab": {
      "provenance": [],
      "authorship_tag": "ABX9TyPaV4FSLEIiDg0QtWvfEHiO",
      "include_colab_link": true
    },
    "kernelspec": {
      "name": "python3",
      "display_name": "Python 3"
    },
    "language_info": {
      "name": "python"
    }
  },
  "cells": [
    {
      "cell_type": "markdown",
      "metadata": {
        "id": "view-in-github",
        "colab_type": "text"
      },
      "source": [
        "<a href=\"https://colab.research.google.com/github/kevinsoni2511/ELEVATE-LAB/blob/main/TASK1/MEDICAL_APPOINMENT_NO_SHOW.ipynb\" target=\"_parent\"><img src=\"https://colab.research.google.com/assets/colab-badge.svg\" alt=\"Open In Colab\"/></a>"
      ]
    },
    {
      "cell_type": "code",
      "execution_count": 67,
      "metadata": {
        "id": "LBSA9SiDbZSi",
        "colab": {
          "base_uri": "https://localhost:8080/"
        },
        "outputId": "06d30c8b-9ba4-4602-e3cb-30ca25b9cf02"
      },
      "outputs": [
        {
          "output_type": "stream",
          "name": "stdout",
          "text": [
            "✅ Dataset loaded successfully!\n",
            "\n",
            "Initial shape\n",
            " (110527, 14)\n",
            "\n",
            "Preview of dataset\n",
            "\n",
            "       PatientId  AppointmentID Gender          ScheduledDay  \\\n",
            "0  2.987250e+13        5642903      F  2016-04-29T18:38:08Z   \n",
            "1  5.589978e+14        5642503      M  2016-04-29T16:08:27Z   \n",
            "2  4.262962e+12        5642549      F  2016-04-29T16:19:04Z   \n",
            "3  8.679512e+11        5642828      F  2016-04-29T17:29:31Z   \n",
            "4  8.841186e+12        5642494      F  2016-04-29T16:07:23Z   \n",
            "5  9.598513e+13        5626772      F  2016-04-27T08:36:51Z   \n",
            "6  7.336882e+14        5630279      F  2016-04-27T15:05:12Z   \n",
            "7  3.449833e+12        5630575      F  2016-04-27T15:39:58Z   \n",
            "8  5.639473e+13        5638447      F  2016-04-29T08:02:16Z   \n",
            "9  7.812456e+13        5629123      F  2016-04-27T12:48:25Z   \n",
            "\n",
            "         AppointmentDay  Age      Neighbourhood  Scholarship  Hipertension  \\\n",
            "0  2016-04-29T00:00:00Z   62    JARDIM DA PENHA            0             1   \n",
            "1  2016-04-29T00:00:00Z   56    JARDIM DA PENHA            0             0   \n",
            "2  2016-04-29T00:00:00Z   62      MATA DA PRAIA            0             0   \n",
            "3  2016-04-29T00:00:00Z    8  PONTAL DE CAMBURI            0             0   \n",
            "4  2016-04-29T00:00:00Z   56    JARDIM DA PENHA            0             1   \n",
            "5  2016-04-29T00:00:00Z   76          REPÚBLICA            0             1   \n",
            "6  2016-04-29T00:00:00Z   23         GOIABEIRAS            0             0   \n",
            "7  2016-04-29T00:00:00Z   39         GOIABEIRAS            0             0   \n",
            "8  2016-04-29T00:00:00Z   21         ANDORINHAS            0             0   \n",
            "9  2016-04-29T00:00:00Z   19          CONQUISTA            0             0   \n",
            "\n",
            "   Diabetes  Alcoholism  Handcap  SMS_received No-show  \n",
            "0         0           0        0             0      No  \n",
            "1         0           0        0             0      No  \n",
            "2         0           0        0             0      No  \n",
            "3         0           0        0             0      No  \n",
            "4         1           0        0             0      No  \n",
            "5         0           0        0             0      No  \n",
            "6         0           0        0             0     Yes  \n",
            "7         0           0        0             0     Yes  \n",
            "8         0           0        0             0      No  \n",
            "9         0           0        0             0      No  \n"
          ]
        }
      ],
      "source": [
        "\n",
        "# Step 1: Import libraries and load dataset\n",
        "\n",
        "import pandas as pd\n",
        "\n",
        "# Load dataset\n",
        "DF = pd.read_csv(\"MEDICAL_APPOINMENT_NO_SHOW.csv\")\n",
        "\n",
        "print(\"✅ Dataset loaded successfully!\\n\")\n",
        "print(\"Initial shape\\n\", DF.shape)\n",
        "print(\"\\nPreview of dataset\\n\\n\", DF.head(10))\n"
      ]
    },
    {
      "cell_type": "code",
      "source": [
        "\n",
        "# Step 2: Identify and handle missing values\n",
        "\n",
        "print(\"Identify and handle missing values\")\n",
        "print(\"\\nMissing values before cleaning:\\n\", DF.isnull().sum())\n",
        "\n",
        "# Drop missing rows in place\n",
        "DF.dropna(inplace=True)\n",
        "\n",
        "print(\"\\n✅ Missing values after cleaning:\\n\", DF.isnull().sum())\n"
      ],
      "metadata": {
        "colab": {
          "base_uri": "https://localhost:8080/"
        },
        "id": "KWtMSuEAefjd",
        "outputId": "d481086f-b736-4c6f-9be5-33bb2812d128"
      },
      "execution_count": 68,
      "outputs": [
        {
          "output_type": "stream",
          "name": "stdout",
          "text": [
            "Identify and handle missing values\n",
            "\n",
            "Missing values before cleaning:\n",
            " PatientId         0\n",
            "AppointmentID     0\n",
            "Gender            0\n",
            "ScheduledDay      0\n",
            "AppointmentDay    0\n",
            "Age               0\n",
            "Neighbourhood     0\n",
            "Scholarship       0\n",
            "Hipertension      0\n",
            "Diabetes          0\n",
            "Alcoholism        0\n",
            "Handcap           0\n",
            "SMS_received      0\n",
            "No-show           0\n",
            "dtype: int64\n",
            "\n",
            "✅ Missing values after cleaning:\n",
            " PatientId         0\n",
            "AppointmentID     0\n",
            "Gender            0\n",
            "ScheduledDay      0\n",
            "AppointmentDay    0\n",
            "Age               0\n",
            "Neighbourhood     0\n",
            "Scholarship       0\n",
            "Hipertension      0\n",
            "Diabetes          0\n",
            "Alcoholism        0\n",
            "Handcap           0\n",
            "SMS_received      0\n",
            "No-show           0\n",
            "dtype: int64\n"
          ]
        }
      ]
    },
    {
      "cell_type": "code",
      "source": [
        "\n",
        "# Step 3: Remove duplicate records\n",
        "\n",
        "print(\"Remove Duplicate Records\")\n",
        "\n",
        "duplicates_before = DF.duplicated().sum()\n",
        "print(f\"\\nDuplicates before cleaning:\\n {duplicates_before}\")\n",
        "\n",
        "DF.drop_duplicates(inplace=True)\n",
        "\n",
        "duplicates_after = DF.duplicated().sum()\n",
        "print(f\"\\n✅ Duplicates after cleaning:\\n {duplicates_after}\")\n"
      ],
      "metadata": {
        "id": "yKyiZNSxk1on",
        "outputId": "c3863af5-c255-4a27-9bb3-e92dd5699fc2",
        "colab": {
          "base_uri": "https://localhost:8080/"
        }
      },
      "execution_count": 69,
      "outputs": [
        {
          "output_type": "stream",
          "name": "stdout",
          "text": [
            "Remove Duplicate Records\n",
            "\n",
            "Duplicates before cleaning:\n",
            " 0\n",
            "\n",
            "✅ Duplicates after cleaning:\n",
            " 0\n"
          ]
        }
      ]
    },
    {
      "cell_type": "code",
      "source": [
        "\n",
        "# Step 4: Rename columns for consistency\n",
        "\n",
        "print(\"Rename columns for consistency\")\n",
        "\n",
        "DF.columns = [col.strip().lower().replace(\" \", \"_\") for col in DF.columns]\n",
        "\n",
        "print(\"\\n✅ Standardized column names:\\n\", DF.columns.tolist())\n"
      ],
      "metadata": {
        "id": "YBEjHzO4lkZ5",
        "outputId": "5e96a11d-ad7f-4636-9ab9-b68078d9ddfa",
        "colab": {
          "base_uri": "https://localhost:8080/"
        }
      },
      "execution_count": 70,
      "outputs": [
        {
          "output_type": "stream",
          "name": "stdout",
          "text": [
            "Rename columns for consistency\n",
            "\n",
            "✅ Standardized column names:\n",
            " ['patientid', 'appointmentid', 'gender', 'scheduledday', 'appointmentday', 'age', 'neighbourhood', 'scholarship', 'hipertension', 'diabetes', 'alcoholism', 'handcap', 'sms_received', 'no-show']\n"
          ]
        }
      ]
    },
    {
      "cell_type": "code",
      "source": [
        "# Step 5: Standardize text values (like gender, yes/no)\n",
        "\n",
        "print(\"Standardize text values (like gender, yes/no)\")\n",
        "\n",
        "for col in DF.select_dtypes(include=\"object\").columns:\n",
        "    DF[col] = DF[col].astype(str).str.strip().str.lower()\n",
        "\n",
        "# ✅ Fixed: No FutureWarning — modify DataFrame directly\n",
        "if \"gender\" in DF.columns:\n",
        "    DF.replace({\"gender\": {\"f\": \"female\", \"m\": \"male\"}}, inplace=True)\n",
        "\n",
        "if \"no-show\" in DF.columns or \"no_show\" in DF.columns:\n",
        "    colname = \"no-show\" if \"no-show\" in DF.columns else \"no_show\"\n",
        "    DF.replace({colname: {\"no\": \"showed_up\", \"yes\": \"no_show\"}}, inplace=True)\n",
        "\n",
        "print(\"\\n✅ Text values standardized successfully!\")\n"
      ],
      "metadata": {
        "id": "XRlUY_yOn5Og",
        "outputId": "eefd7117-28f2-4f2e-dd5a-794cffa9ec62",
        "colab": {
          "base_uri": "https://localhost:8080/"
        }
      },
      "execution_count": 71,
      "outputs": [
        {
          "output_type": "stream",
          "name": "stdout",
          "text": [
            "Standardize text values (like gender, yes/no)\n",
            "\n",
            "✅ Text values standardized successfully!\n"
          ]
        }
      ]
    },
    {
      "cell_type": "code",
      "source": [
        "# Step 6: Convert date columns to consistent format\n",
        "\n",
        "print(\"Convert date columns to consistent format\")\n",
        "date_cols = [col for col in DF.columns if \"day\" in col or \"date\" in col]\n",
        "\n",
        "for col in date_cols:\n",
        "    DF[col] = pd.to_datetime(DF[col], errors=\"coerce\")\n",
        "\n",
        "print(\"\\n🕒 Date columns converted to datetime:\", date_cols)\n"
      ],
      "metadata": {
        "id": "8aa5-GhnpR4T",
        "outputId": "b0a67722-59dc-4f52-dfe4-04569c5ff23f",
        "colab": {
          "base_uri": "https://localhost:8080/"
        }
      },
      "execution_count": 72,
      "outputs": [
        {
          "output_type": "stream",
          "name": "stdout",
          "text": [
            "Convert date columns to consistent format\n",
            "\n",
            "🕒 Date columns converted to datetime: ['scheduledday', 'appointmentday']\n"
          ]
        }
      ]
    },
    {
      "cell_type": "code",
      "source": [
        "# Step 7: Correct data types\n",
        "\n",
        "print(\"Correct data types\")\n",
        "\n",
        "if \"age\" in DF.columns:\n",
        "    DF[\"age\"] = pd.to_numeric(DF[\"age\"], errors=\"coerce\").fillna(0).astype(int)\n",
        "\n",
        "print(\"\\n✅ Data types corrected where necessary!\")\n"
      ],
      "metadata": {
        "id": "FyJFTTmRpvOH",
        "outputId": "612f6b16-fea9-4870-9129-52534c5783b5",
        "colab": {
          "base_uri": "https://localhost:8080/"
        }
      },
      "execution_count": 73,
      "outputs": [
        {
          "output_type": "stream",
          "name": "stdout",
          "text": [
            "Correct data types\n",
            "\n",
            "✅ Data types corrected where necessary!\n"
          ]
        }
      ]
    },
    {
      "cell_type": "code",
      "source": [
        "# Step 8: Final inspection of cleaned dataset\n",
        "\n",
        "print(\"Final inspection of cleaned dataset\")\n",
        "print(\"\\n📊 Dataset information after cleaning:\\n\")\n",
        "print(DF.info())\n",
        "print(\"\\nFinal shape:\", DF.shape)\n"
      ],
      "metadata": {
        "id": "heLuy3Fjq0WC",
        "outputId": "8906d133-91e2-4491-eb60-46b0eeec55d8",
        "colab": {
          "base_uri": "https://localhost:8080/"
        }
      },
      "execution_count": 74,
      "outputs": [
        {
          "output_type": "stream",
          "name": "stdout",
          "text": [
            "Final inspection of cleaned dataset\n",
            "\n",
            "📊 Dataset information after cleaning:\n",
            "\n",
            "<class 'pandas.core.frame.DataFrame'>\n",
            "RangeIndex: 110527 entries, 0 to 110526\n",
            "Data columns (total 14 columns):\n",
            " #   Column          Non-Null Count   Dtype         \n",
            "---  ------          --------------   -----         \n",
            " 0   patientid       110527 non-null  float64       \n",
            " 1   appointmentid   110527 non-null  int64         \n",
            " 2   gender          110527 non-null  object        \n",
            " 3   scheduledday    110527 non-null  datetime64[ns]\n",
            " 4   appointmentday  110527 non-null  datetime64[ns]\n",
            " 5   age             110527 non-null  int64         \n",
            " 6   neighbourhood   110527 non-null  object        \n",
            " 7   scholarship     110527 non-null  int64         \n",
            " 8   hipertension    110527 non-null  int64         \n",
            " 9   diabetes        110527 non-null  int64         \n",
            " 10  alcoholism      110527 non-null  int64         \n",
            " 11  handcap         110527 non-null  int64         \n",
            " 12  sms_received    110527 non-null  int64         \n",
            " 13  no-show         110527 non-null  object        \n",
            "dtypes: datetime64[ns](2), float64(1), int64(8), object(3)\n",
            "memory usage: 11.8+ MB\n",
            "None\n",
            "\n",
            "Final shape: (110527, 14)\n"
          ]
        }
      ]
    },
    {
      "cell_type": "code",
      "source": [
        "\n",
        "# Step 9: Save cleaned dataset\n",
        "\n",
        "print(\"Save cleaned dataset\")\n",
        "output_path = \"medical_appointment_cleaned.csv\"\n",
        "DF.to_csv(output_path, index=False)\n",
        "\n",
        "print(f\"\\n✅ Cleaned dataset saved successfully as: {output_path}\")\n"
      ],
      "metadata": {
        "id": "NMZDQxR4r1aA",
        "outputId": "c2c6018c-fa13-486a-81aa-2203c3af90f4",
        "colab": {
          "base_uri": "https://localhost:8080/"
        }
      },
      "execution_count": 75,
      "outputs": [
        {
          "output_type": "stream",
          "name": "stdout",
          "text": [
            "Save cleaned dataset\n",
            "\n",
            "✅ Cleaned dataset saved successfully as: medical_appointment_cleaned.csv\n"
          ]
        }
      ]
    },
    {
      "cell_type": "code",
      "source": [
        "\n",
        "# Step 10: Summary of cleaning changes\n",
        "\n",
        "print(\"Summary of cleaning changes\")\n",
        "summary = {\n",
        "    \"Missing Values Removed\": True,\n",
        "    \"Duplicates Removed\": True,\n",
        "    \"Columns Renamed\": True,\n",
        "    \"Text Standardized\": True,\n",
        "    \"Date Columns Converted\": date_cols,\n",
        "    \"Numeric Data Fixed\": True,\n",
        "    \"Final Shape\": df.shape\n",
        "}\n",
        "\n",
        "print(\"\\n📄 Cleaning Summary:\\n\")\n",
        "for key, value in summary.items():\n",
        "    print(f\"{key}: {value}\")\n",
        "\n",
        "print(\"\\n🎯 Data Cleaning & Preprocessing Completed Successfully!\")\n"
      ],
      "metadata": {
        "id": "5Y-1hPrZrlRo",
        "outputId": "c665415d-eed3-4145-d0d6-3178af52a90c",
        "colab": {
          "base_uri": "https://localhost:8080/"
        }
      },
      "execution_count": 76,
      "outputs": [
        {
          "output_type": "stream",
          "name": "stdout",
          "text": [
            "Summary of cleaning changes\n",
            "\n",
            "📄 Cleaning Summary:\n",
            "\n",
            "Missing Values Removed: True\n",
            "Duplicates Removed: True\n",
            "Columns Renamed: True\n",
            "Text Standardized: True\n",
            "Date Columns Converted: ['scheduledday', 'appointmentday']\n",
            "Numeric Data Fixed: True\n",
            "Final Shape: (110527, 14)\n",
            "\n",
            "🎯 Data Cleaning & Preprocessing Completed Successfully!\n"
          ]
        }
      ]
    }
  ]
}